{
  "nbformat": 4,
  "nbformat_minor": 0,
  "metadata": {
    "kernelspec": {
      "display_name": "Python 3",
      "language": "python",
      "name": "python3"
    },
    "language_info": {
      "codemirror_mode": {
        "name": "ipython",
        "version": 3
      },
      "file_extension": ".py",
      "mimetype": "text/x-python",
      "name": "python",
      "nbconvert_exporter": "python",
      "pygments_lexer": "ipython3",
      "version": "3.7.0"
    },
    "colab": {
      "provenance": []
    }
  },
  "cells": [
    {
      "cell_type": "markdown",
      "metadata": {
        "id": "hhIQeEv4JdpK"
      },
      "source": [
        "## Selamat datang di Tantangan Coding Minggu ke-3!\n",
        "### Tema minggu ini adalah: String!\n",
        "\n",
        "Mulai minggu ini, metode inisialisasi fungsi tidak akan diberikan. Anda harus mencari tahu sendiri. Keep up the good work!\n",
        "\n",
        "Anda hanya perlu **menyelesaikan 2 pertanyaan**!"
      ]
    },
    {
      "cell_type": "markdown",
      "metadata": {
        "id": "ZwHc-3vSJdpj"
      },
      "source": [
        "###**Problem 1: Temukan jumlah substring.**"
      ]
    },
    {
      "cell_type": "markdown",
      "metadata": {
        "id": "_rD65MuvJdpm"
      },
      "source": [
        "Buatlah fungsi yang bernama ```substring_count``` yang dapat melakukan:\n",
        "\n",
        "Diberikan string dan substring. Hitung berapa kali substring muncul di string. Input pertama selalu berupa string (yang lebih panjang), dan input kedua selalu berupa substring (yang lebih pendek).\n",
        "\n",
        "##### Example 1:\n",
        "\n",
        "Input:\n",
        "\n",
        "string = 'ABCDCDC'\n",
        "\n",
        "substring = 'CD'\n",
        "\n",
        "Berapa kali 'CD' muncul di 'ABCDCDC'?\n",
        "2 kali! Jadi saat kita menjalankan ```substring_count('ABCDCDC', 'CD')``` hasilnya akan menjadi '2'.\n",
        "\n",
        "Output: 2\n",
        "\n",
        "##### Example 2:\n",
        "\n",
        "String:\n",
        "\n",
        "string = 'ABCDCDC'\n",
        "\n",
        "substring = 'CDC'\n",
        "\n",
        "Berapa kali 'CDC' muncul di 'ABCDCDC'?\n",
        "2 kali! Ya, itu bisa tumpang tindih. AB**CDC**DC, dan ABCD**CDC**. Jadi, saat kita menjalankan ```substring_count('ABCDCDC', 'CDC')``` hasilnya akan '2'.\n",
        "\n",
        "Output: 2\n",
        "\n",
        "##### Example 3:\n",
        "\n",
        "string = 'DEDFDEDEDEG'\n",
        "\n",
        "substring = 'DED'\n",
        "\n",
        "3 kali! Pertama: **DED**FDEDEDEG. Kedua: DEDF**DED**EDEG. Ketiga: DEDFDE**DED**EG.\n",
        "\n",
        "Output: 3"
      ]
    },
    {
      "cell_type": "code",
      "metadata": {
        "id": "-dQgvKqmJdpp"
      },
      "source": [
        "### Write your solution here ###\n",
        "def substring_count(string, substring):\n",
        "  get_substring = []\n",
        "  length_sub = len(substring)\n",
        "  count_sub = 0\n",
        "  #Membuat substring dari string dengan panjang karakter sebanyak input substring\n",
        "  for i in range(len(string)):\n",
        "    get_substring.append(string[i:length_sub])\n",
        "    length_sub+=1\n",
        "  #Menghitung jumlah substring yang sama\n",
        "  for j in get_substring:\n",
        "    if j == substring:\n",
        "        count_sub +=1\n",
        "  return count_sub"
      ],
      "execution_count": null,
      "outputs": []
    },
    {
      "cell_type": "code",
      "metadata": {
        "id": "Um0FiJYdJdps",
        "outputId": "deb5cf73-5d8b-4519-f289-374257f5c613",
        "colab": {
          "base_uri": "https://localhost:8080/"
        }
      },
      "source": [
        "substring_count('ABCDCDC', 'CDC')\n",
        "#Expected output= 2"
      ],
      "execution_count": null,
      "outputs": [
        {
          "output_type": "execute_result",
          "data": {
            "text/plain": [
              "2"
            ]
          },
          "metadata": {},
          "execution_count": 26
        }
      ]
    },
    {
      "cell_type": "code",
      "metadata": {
        "id": "T4YeC9kmJdpv",
        "outputId": "1f5b7044-7fbc-43f6-eb27-5731ee96a635",
        "colab": {
          "base_uri": "https://localhost:8080/"
        }
      },
      "source": [
        "substring_count('DEDFDEDEDEG', 'DED')"
      ],
      "execution_count": null,
      "outputs": [
        {
          "output_type": "execute_result",
          "data": {
            "text/plain": [
              "3"
            ]
          },
          "metadata": {},
          "execution_count": 27
        }
      ]
    },
    {
      "cell_type": "markdown",
      "metadata": {
        "id": "kPc42YPuJdpw"
      },
      "source": [
        "###**Problem 2: Berapa banyak huruf berbeda yang ada di string?**"
      ]
    },
    {
      "cell_type": "markdown",
      "metadata": {
        "id": "YtkU_gLYJdpx"
      },
      "source": [
        "Buat fungsi yang bernama ```diff_letters``` yang menghitung jumlah huruf yang berbeda yang terdapat pada string\n",
        "\n",
        "Input hanya berupa string tunggal.\n",
        "\n",
        "##### Example 1:\n",
        "\n",
        "Input: 'AAAAAAAAAB'\n",
        "\n",
        "Karena hanya ada 2 huruf berbeda dalam string input, keluarannya adalah 2.\n",
        "\n",
        "Saat kita menjalankan ```diff_letters```, outputnya adalah '2'.\n",
        "\n",
        "Output: 2\n",
        "\n",
        "##### Example 2:\n",
        "\n",
        "Input: 'ABCDAAAABBCCCE'\n",
        "\n",
        "Karena ada 5 huruf berbeda dalam string itu (A, B, C, D, E), hasilnya adalah 5.\n",
        "\n",
        "Output: 5"
      ]
    },
    {
      "cell_type": "code",
      "metadata": {
        "id": "uQkNjT2kJdpz"
      },
      "source": [
        "### Write your code here ###\n",
        "def unique(word):\n",
        "  letter = []\n",
        "  for i in word:\n",
        "    if i not in letter:\n",
        "      letter.append(i)\n",
        "  return(len(letter))\n"
      ],
      "execution_count": null,
      "outputs": []
    },
    {
      "cell_type": "code",
      "metadata": {
        "id": "_BAImneoJdp0",
        "outputId": "6a7d5353-d261-4fdc-e9b2-e7de9bc420e8",
        "colab": {
          "base_uri": "https://localhost:8080/"
        }
      },
      "source": [
        "unique('AAAAAAAAAB')"
      ],
      "execution_count": null,
      "outputs": [
        {
          "output_type": "execute_result",
          "data": {
            "text/plain": [
              "2"
            ]
          },
          "metadata": {},
          "execution_count": 4
        }
      ]
    },
    {
      "cell_type": "code",
      "metadata": {
        "id": "GZG7-n3xJdp0",
        "outputId": "66cea0e9-2859-4829-d24e-450a80e328ff",
        "colab": {
          "base_uri": "https://localhost:8080/"
        }
      },
      "source": [
        "unique('ABCDAAAABBCCCE')"
      ],
      "execution_count": null,
      "outputs": [
        {
          "output_type": "execute_result",
          "data": {
            "text/plain": [
              "5"
            ]
          },
          "metadata": {},
          "execution_count": 28
        }
      ]
    },
    {
      "cell_type": "code",
      "metadata": {
        "id": "X2K3osNDJdp1",
        "outputId": "f1fe2269-cb42-4170-fcba-1933b48f7430",
        "colab": {
          "base_uri": "https://localhost:8080/"
        }
      },
      "source": [
        "unique('SAJDHWIONSSKAJDLHIO')"
      ],
      "execution_count": null,
      "outputs": [
        {
          "output_type": "execute_result",
          "data": {
            "text/plain": [
              "11"
            ]
          },
          "metadata": {},
          "execution_count": 29
        }
      ]
    },
    {
      "cell_type": "markdown",
      "metadata": {
        "id": "fiXI1RgZJdp3"
      },
      "source": [
        "Problem 3: Temukan Jarak Antara Dua Koordinat - Medium"
      ]
    },
    {
      "cell_type": "markdown",
      "metadata": {
        "id": "TZx_zMmbJdp3"
      },
      "source": [
        "Buatlah fungsi yang bernama ```distance``` yang dapat melakukan:\n",
        "\n",
        "Diberikan dua koordinat dalam list. Tugas Anda adalah menghitung jarak antara kedua koordinat tersebut. Input dari fungsi Anda akan berupa string. Koordinat yang muncul pertama adalah koordinat pertama, dan koordinat yang muncul setelah koma adalah koordinat kedua.\n",
        "\n",
        "##### Example 1:\n",
        "\n",
        "Input:\n",
        "\n",
        "'(5,5), (1,2)'\n",
        "\n",
        "Artinya, koordinat titik pertama adalah (5,5), koordinat titik kedua adalah (1,2). Untuk menghitung jarak antara dua titik ini, kami menggunakan rumus jarak euclidean biasa yang dapat dibaca di link berikut: https://wikimedia.org/api/rest_v1/media/math/render/svg/2e0c9ce1b3455cb9e92c6bad6684dbda02f69c82.\n",
        "\n",
        "Jaraknya adalah:\n",
        "\n",
        "Akar kuadrat dari ((5-1)^2 + (5-2)^2) = Akar kuadrat dari (16 + 9) = Akar kuadrat dari (25) = 5.\n",
        "\n",
        "Output: 'Jaraknya adalah 5'\n",
        "\n",
        "Jadi, saat kita menjalankan ```distance('(5,5),(1,2)')``` Outputnya adalah 'Jaraknya adalah 5'.\n",
        "\n",
        "##### Example 2:\n",
        "\n",
        "Input:\n",
        "\n",
        "'(0,-1), (-3,2)'\n",
        "\n",
        "TKoordinat pertama adalah (0,-1), koordinat kedua adalah (-3,2). Jarak antara mereka adalah:\n",
        "\n",
        "Akar kuadrat dari ((0- -3)^2 + (-1-2)^2) = Akar kuadrat dari (9 + 9) = Akar kuadrat dari (18) = 4,242640687\n",
        "\n",
        "Output: 'Jaraknya adalah 4.242640687'\n",
        "\n",
        "Jadi, saat kita menjalankan ```distance('(0,-1),(-3,2)')``` Outputnya adalah 'Jaraknya adalah 4.242640487'\n",
        "\n",
        "##### FAQ:\n",
        "\n",
        "- Question: \"Desimalnya dibuletin ga?\"\n",
        "- Answer: \"Ga usah peduliin format output desimalnya. Mau keluar berapa angka di belakang koma gpp kok. Yang penting value nya bener.\"\n",
        "- Question: \"Lha bedanya apa sama soal week 2?\"\n",
        "- Answer: \"Bedanya kali ini inputnya cuma 1, dan dia berupa teks (string), bukan list kyk minggu lalu. Semangat!\""
      ]
    },
    {
      "cell_type": "code",
      "metadata": {
        "id": "_z7gXtaTJdp9"
      },
      "source": [
        "#Jika '(5,5), (1,2)' ada spasi ditengah\n",
        "def distance1(string):\n",
        "  a = string.split(', ')\n",
        "  angka = []\n",
        "  for i in a:\n",
        "    i = i.strip('()')\n",
        "    i = i.split(',')\n",
        "    x = int(i[0])\n",
        "    y = int(i[1])\n",
        "    angka.append(x);angka.append(y)\n",
        "  hitung1 = (angka[0]-angka[2])**2\n",
        "  hitung2 = (angka[1]-angka[3])**2\n",
        "  jarak = (hitung1+hitung2)**(0.5)\n",
        "  return jarak"
      ],
      "execution_count": null,
      "outputs": []
    },
    {
      "cell_type": "code",
      "metadata": {
        "id": "MT6iH_F4Jdp_",
        "outputId": "a517af3d-0ae9-45b8-93c7-8402a4fc12f9",
        "colab": {
          "base_uri": "https://localhost:8080/"
        }
      },
      "source": [
        "distance1('(5,5), (1,2)')"
      ],
      "execution_count": null,
      "outputs": [
        {
          "output_type": "execute_result",
          "data": {
            "text/plain": [
              "5.0"
            ]
          },
          "metadata": {},
          "execution_count": 106
        }
      ]
    },
    {
      "cell_type": "code",
      "metadata": {
        "id": "qcACpDdPJdp8",
        "outputId": "84b21582-9e25-4246-c882-bf1fcf0935cb",
        "colab": {
          "base_uri": "https://localhost:8080/"
        }
      },
      "source": [
        "distance1('(0,-1), (-3,2)')"
      ],
      "execution_count": null,
      "outputs": [
        {
          "output_type": "execute_result",
          "data": {
            "text/plain": [
              "4.242640687119285"
            ]
          },
          "metadata": {},
          "execution_count": 107
        }
      ]
    },
    {
      "cell_type": "code",
      "source": [
        "#Jika '(5,5),(1,2)' tidak ada spasi ditengah\n",
        "def distance2(string):\n",
        "  a = string.split(',')\n",
        "  angka = []\n",
        "  for i in a:\n",
        "    i = i.strip('()')\n",
        "    angka.append(int(i))\n",
        "  hitung1 = (angka[0]-angka[2])**2\n",
        "  hitung2 = (angka[1]-angka[3])**2\n",
        "  jarak = (hitung1+hitung2)**(0.5)\n",
        "  return jarak"
      ],
      "metadata": {
        "id": "VChnrMYEnais"
      },
      "execution_count": null,
      "outputs": []
    },
    {
      "cell_type": "code",
      "source": [
        "distance2('(5,5),(1,2)')"
      ],
      "metadata": {
        "id": "DKVgmEQFqWqR",
        "outputId": "287c4516-45a4-4383-bad7-d97bff309d29",
        "colab": {
          "base_uri": "https://localhost:8080/"
        }
      },
      "execution_count": null,
      "outputs": [
        {
          "output_type": "execute_result",
          "data": {
            "text/plain": [
              "5.0"
            ]
          },
          "metadata": {},
          "execution_count": 113
        }
      ]
    },
    {
      "cell_type": "code",
      "metadata": {
        "id": "AZ-uqJvvJdqG",
        "outputId": "2107c897-f74b-46da-95ff-fc6631489d35",
        "colab": {
          "base_uri": "https://localhost:8080/"
        }
      },
      "source": [
        "distance2('(0,-1),(-3,2)')"
      ],
      "execution_count": null,
      "outputs": [
        {
          "output_type": "execute_result",
          "data": {
            "text/plain": [
              "4.242640687119285"
            ]
          },
          "metadata": {},
          "execution_count": 115
        }
      ]
    },
    {
      "cell_type": "code",
      "metadata": {
        "id": "FvLIEVgJJdqG"
      },
      "source": [],
      "execution_count": null,
      "outputs": []
    },
    {
      "cell_type": "code",
      "metadata": {
        "id": "QSrhrMOvJdqH"
      },
      "source": [],
      "execution_count": null,
      "outputs": []
    }
  ]
}