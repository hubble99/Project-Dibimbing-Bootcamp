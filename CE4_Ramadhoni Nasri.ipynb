{
  "cells": [
    {
      "cell_type": "markdown",
      "id": "rgyHha0XVqWk",
      "metadata": {
        "id": "rgyHha0XVqWk"
      },
      "source": [
        "## Welcome to Coding challenge 4\n",
        "**Kamu hanya diminta untuk menyelesaikan 2 pertanyaan**\n"
      ]
    },
    {
      "cell_type": "markdown",
      "id": "yYHzZQQ7VqWo",
      "metadata": {
        "id": "yYHzZQQ7VqWo"
      },
      "source": [
        "### Question 1.\n",
        "### \"Shifting Members of an Array\""
      ]
    },
    {
      "cell_type": "markdown",
      "id": "HnQ0f2qIVqWp",
      "metadata": {
        "id": "HnQ0f2qIVqWp"
      },
      "source": [
        "Pada pertanyaan ini, kita ingin menggeser array ke kanan. seberapa banyak?\n",
        "Tergantung dari input\n",
        "\n",
        "##### Example 1:\n",
        "array = [1,2,3,4,5]\n",
        "steps = 3\n",
        "\n",
        "Kita harus menggeser array 3 langkah ke kanan.\n",
        "- Original array = [1,2,3,4,5]\n",
        "- Step 1 = [5,1,2,3,4]\n",
        "- Step 2 = [4,5,1,2,3]\n",
        "- Step 3 = [3,4,5,1,2]\n",
        "\n",
        "Answer = [3,4,5,1,2]\n",
        "\n",
        "##### Example 2:\n",
        "array = [1,2,3]\n",
        "steps = 5\n",
        "\n",
        "Kita harus menggeser array 3 langkah ke kanan.\n",
        "\n",
        "- Original array = [1,2,3]\n",
        "- Step 1 = [3,1,2]\n",
        "- Step 2 = [2,3,1]\n",
        "- Step 3 = [1,2,3]\n",
        "- Step 4 = [3,1,2]\n",
        "- Step 5 = [2,3,1]\n",
        "\n",
        "Answer = [2,3,1]"
      ]
    },
    {
      "cell_type": "code",
      "execution_count": 2,
      "id": "fJsYHD2DVqWq",
      "metadata": {
        "id": "fJsYHD2DVqWq"
      },
      "outputs": [],
      "source": [
        "### Write your function here ###\n",
        "def shift(array, steps):\n",
        "    B = list(range(len(array)))\n",
        "    for i in array:\n",
        "        index_now = array.index(i)\n",
        "        index_new = index_now+steps\n",
        "        if index_new >= len(array):\n",
        "            index_new = index_new % len(array)\n",
        "            B[index_new] = i\n",
        "        else:\n",
        "            B[index_new] = i\n",
        "            \n",
        "    return B"
      ]
    },
    {
      "cell_type": "code",
      "execution_count": 3,
      "id": "qpDQUNijXhd7",
      "metadata": {
        "id": "qpDQUNijXhd7"
      },
      "outputs": [
        {
          "data": {
            "text/plain": [
              "[2, 3, 4, 5, 1]"
            ]
          },
          "execution_count": 3,
          "metadata": {},
          "output_type": "execute_result"
        }
      ],
      "source": [
        "shift([1,2,3,4,5],4)\n",
        "\n",
        "# Expected Output: [2, 3, 4, 5, 1]"
      ]
    },
    {
      "cell_type": "code",
      "execution_count": 4,
      "id": "jnr5znJUVqWr",
      "metadata": {
        "id": "jnr5znJUVqWr"
      },
      "outputs": [
        {
          "data": {
            "text/plain": [
              "['budi', 'charlie', 'doni', 'andi']"
            ]
          },
          "execution_count": 4,
          "metadata": {},
          "output_type": "execute_result"
        }
      ],
      "source": [
        "shift(['andi', 'budi', 'charlie', 'doni'],7)\n",
        "\n",
        "# Expected Output: ['budi', 'charlie', 'doni', 'andi']"
      ]
    },
    {
      "cell_type": "code",
      "execution_count": 5,
      "id": "LJaWSk-sW9ak",
      "metadata": {
        "id": "LJaWSk-sW9ak"
      },
      "outputs": [
        {
          "data": {
            "text/plain": [
              "['bing', 123, 'data', 'science', 'di', 'bim']"
            ]
          },
          "execution_count": 5,
          "metadata": {},
          "output_type": "execute_result"
        }
      ],
      "source": [
        "shift(['di', 'bim', 'bing', 123, 'data', 'science'],10)\n",
        "\n",
        "# Expected Output: ['bing', 123, 'data', 'science', 'di', 'bim']"
      ]
    },
    {
      "cell_type": "markdown",
      "id": "MRxU2bsKVqWs",
      "metadata": {
        "id": "MRxU2bsKVqWs"
      },
      "source": [
        "### Question 2.\n",
        "### \"Segitiga Paskal\""
      ]
    },
    {
      "cell_type": "markdown",
      "id": "hBUS1vtjVqWs",
      "metadata": {
        "id": "hBUS1vtjVqWs"
      },
      "source": [
        "Kita akan membuat segitiga paskal sebanyak n-baris. fungsi yang dibuat harus bernama ```pascal```. Apabila belum mengetahui apa itu segitiga paskal, silahkan lihat video:https://www.youtube.com/watch?v=1D3KsvfB8b0 dan baca https://www.mathsisfun.com/pascals-triangle.html\n",
        "\n",
        "##### Example 1:\n",
        "Input = 4,\n",
        "\n",
        "Answer = [1,4,6,4,1]\n",
        "\n",
        "##### Example 2:\n",
        "input = 3,\n",
        "\n",
        "Answer = [1,3,3,1]\n",
        "\n"
      ]
    },
    {
      "cell_type": "code",
      "execution_count": 6,
      "id": "2KDt9NdfVqWt",
      "metadata": {
        "id": "2KDt9NdfVqWt"
      },
      "outputs": [],
      "source": [
        "### Write your solution here ###\n",
        "def faktorial(n):\n",
        "    faktorial = 1\n",
        "    if n == 0 or n == 1:\n",
        "        return 1\n",
        "    else:\n",
        "        for i in range(n):\n",
        "            faktorial = (i+1)*faktorial\n",
        "        return faktorial\n",
        "\n",
        "def kombinasi(n, k):\n",
        "    nilai_kombinasi = faktorial(n) / ((faktorial(k) * faktorial(n - k)))\n",
        "    return nilai_kombinasi\n",
        "\n",
        "def pascal(baris_diminta):\n",
        "    pascal_list = []\n",
        "    for i in range(baris_diminta + 1):\n",
        "        nilai_comb = int(kombinasi(baris_diminta, i))\n",
        "        pascal_list.append(nilai_comb)\n",
        "\n",
        "    return pascal_list"
      ]
    },
    {
      "cell_type": "code",
      "execution_count": 7,
      "id": "oRbvyp8oYsrU",
      "metadata": {
        "colab": {
          "base_uri": "https://localhost:8080/",
          "height": 175
        },
        "id": "oRbvyp8oYsrU",
        "outputId": "45b8fb46-1950-4fcf-fba9-2fe13ed7981a"
      },
      "outputs": [
        {
          "data": {
            "text/plain": [
              "[1, 3, 3, 1]"
            ]
          },
          "execution_count": 7,
          "metadata": {},
          "output_type": "execute_result"
        }
      ],
      "source": [
        "pascal(3)"
      ]
    },
    {
      "cell_type": "code",
      "execution_count": 8,
      "id": "-Jkxdrn_VqWu",
      "metadata": {
        "id": "-Jkxdrn_VqWu"
      },
      "outputs": [
        {
          "data": {
            "text/plain": [
              "[1, 9, 36, 84, 126, 126, 84, 36, 9, 1]"
            ]
          },
          "execution_count": 8,
          "metadata": {},
          "output_type": "execute_result"
        }
      ],
      "source": [
        "pascal(9)"
      ]
    },
    {
      "cell_type": "code",
      "execution_count": 9,
      "metadata": {},
      "outputs": [
        {
          "data": {
            "text/plain": [
              "[1, 12, 66, 220, 495, 792, 924, 792, 495, 220, 66, 12, 1]"
            ]
          },
          "execution_count": 9,
          "metadata": {},
          "output_type": "execute_result"
        }
      ],
      "source": [
        "pascal(12)"
      ]
    },
    {
      "cell_type": "markdown",
      "id": "UJFlJIG_VqWv",
      "metadata": {
        "id": "UJFlJIG_VqWv"
      },
      "source": [
        "### Question 3"
      ]
    },
    {
      "cell_type": "markdown",
      "id": "q_vw2BtGVqWv",
      "metadata": {
        "id": "q_vw2BtGVqWv"
      },
      "source": [
        "### \"Jarak maksimal antara 3 titik\""
      ]
    },
    {
      "cell_type": "markdown",
      "id": "k6qNbSInVqWw",
      "metadata": {
        "id": "k6qNbSInVqWw"
      },
      "source": [
        "Terdapat 3 koordinat, tentukan jarak antar 2 titik mana yang memiliki jarak terjauh, dan berikan output jarak kedua titik tersebut. fungsi yang anda buat haurs bernama ```max_ditance```. titik koordinat pertama disebut 'A', titik kedua disebut'B', dan titik ketiga disebut 'C'\n",
        "\n",
        "##### Example:\n",
        "A = [1,2],\n",
        "B = [10,-10],\n",
        "C = [-3, 5]\n",
        "\n",
        "- The distance between AB = 15\n",
        "- The distance between BC = 19.8\n",
        "- The distance between AC = 5.0\n",
        "\n",
        "Answer = \"The point B,C are furthest apart with distance 19.8\"\n"
      ]
    },
    {
      "cell_type": "code",
      "execution_count": 10,
      "id": "la5u9FV4VqWw",
      "metadata": {
        "id": "la5u9FV4VqWw"
      },
      "outputs": [],
      "source": [
        "### Write your solution here ###\n",
        "def max_distance(A,B,C):\n",
        "    distance_AB = (((A[0]-B[0])**2)+((A[1]-B[1])**2))**0.5\n",
        "    distance_BC = (((B[0]-C[0])**2)+((B[1]-C[1])**2))**0.5\n",
        "    distance_AC = (((A[0]-C[0])**2)+((A[1]-C[1])**2))**0.5\n",
        "    if (distance_AB>distance_BC) and (distance_AB>distance_AC):\n",
        "        max = round(distance_AB,1)\n",
        "        print(f\"The point A,B are furthest apart with distance {max}\")  \n",
        "    elif distance_AC>distance_AB and distance_AC>distance_BC:\n",
        "        max = round(distance_AC,1)\n",
        "        print(f\"The point A,C are furthest apart with distance {max}\")\n",
        "    elif (distance_AB == distance_AC) and (distance_AB>distance_BC):\n",
        "        max = round(distance_AB,1)\n",
        "        print(f\"The point A,B and A,C are furthest apart with distance {max}\")\n",
        "    elif (distance_AB == distance_BC) and (distance_AB>distance_AC):\n",
        "        max = round(distance_AB,1)\n",
        "        print(f\"The point A,B and B,C are furthest apart with distance {max}\")\n",
        "    elif (distance_AC == distance_BC) and (distance_AC>distance_AB):\n",
        "        max = round(distance_AB,1)\n",
        "        print(f\"The point A,C and B,C are furthest apart with distance {max}\")\n",
        "    elif (distance_AB == distance_AC) and (distance_AB == distance_BC):\n",
        "        max = round(distance_AB,1)\n",
        "        print(f\"All points have the same length when connected with distance {max}\")\n",
        "    else:\n",
        "        max = round(distance_BC,1)\n",
        "        print(f\"The point B,C are furthest apart with distance {max}\")"
      ]
    },
    {
      "cell_type": "code",
      "execution_count": 11,
      "id": "AOlaM0grVqWy",
      "metadata": {
        "id": "AOlaM0grVqWy"
      },
      "outputs": [
        {
          "name": "stdout",
          "output_type": "stream",
          "text": [
            "The point B,C are furthest apart with distance 19.8\n"
          ]
        }
      ],
      "source": [
        "A = [1,2]\n",
        "B = [10,-10]\n",
        "C = [-3,5]\n",
        "max_distance(A,B,C)"
      ]
    },
    {
      "cell_type": "code",
      "execution_count": 12,
      "id": "jowcVYLLVqWy",
      "metadata": {
        "id": "jowcVYLLVqWy"
      },
      "outputs": [
        {
          "name": "stdout",
          "output_type": "stream",
          "text": [
            "The point A,B and A,C are furthest apart with distance 9.8\n"
          ]
        }
      ],
      "source": [
        "A = [3,5]\n",
        "B = [12,9]\n",
        "C = [12,1]\n",
        "max_distance(A,B,C)"
      ]
    },
    {
      "cell_type": "code",
      "execution_count": 13,
      "id": "LDshQYqhVqWy",
      "metadata": {
        "id": "LDshQYqhVqWy"
      },
      "outputs": [
        {
          "name": "stdout",
          "output_type": "stream",
          "text": [
            "All points have the same length when connected with distance 4.0\n"
          ]
        }
      ],
      "source": [
        "A = [0,0]\n",
        "B = [4,0]\n",
        "C = [2,(2*(3)**0.5)]\n",
        "max_distance(A,B,C)"
      ]
    }
  ],
  "metadata": {
    "colab": {
      "provenance": []
    },
    "kernelspec": {
      "display_name": "Python 3",
      "language": "python",
      "name": "python3"
    },
    "language_info": {
      "codemirror_mode": {
        "name": "ipython",
        "version": 3
      },
      "file_extension": ".py",
      "mimetype": "text/x-python",
      "name": "python",
      "nbconvert_exporter": "python",
      "pygments_lexer": "ipython3",
      "version": "3.11.1"
    }
  },
  "nbformat": 4,
  "nbformat_minor": 5
}
