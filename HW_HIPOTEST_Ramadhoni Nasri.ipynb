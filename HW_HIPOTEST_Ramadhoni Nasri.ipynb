{
 "cells": [
  {
   "cell_type": "code",
   "execution_count": 47,
   "metadata": {},
   "outputs": [],
   "source": [
    "import pandas as pd\n",
    "import numpy as np\n",
    "import matplotlib.pyplot as plt"
   ]
  },
  {
   "cell_type": "code",
   "execution_count": 48,
   "metadata": {},
   "outputs": [
    {
     "data": {
      "text/html": [
       "<div>\n",
       "<style scoped>\n",
       "    .dataframe tbody tr th:only-of-type {\n",
       "        vertical-align: middle;\n",
       "    }\n",
       "\n",
       "    .dataframe tbody tr th {\n",
       "        vertical-align: top;\n",
       "    }\n",
       "\n",
       "    .dataframe thead th {\n",
       "        text-align: right;\n",
       "    }\n",
       "</style>\n",
       "<table border=\"1\" class=\"dataframe\">\n",
       "  <thead>\n",
       "    <tr style=\"text-align: right;\">\n",
       "      <th></th>\n",
       "      <th>weight_kg</th>\n",
       "    </tr>\n",
       "  </thead>\n",
       "  <tbody>\n",
       "    <tr>\n",
       "      <th>23</th>\n",
       "      <td>22.5</td>\n",
       "    </tr>\n",
       "    <tr>\n",
       "      <th>9</th>\n",
       "      <td>18.5</td>\n",
       "    </tr>\n",
       "    <tr>\n",
       "      <th>34</th>\n",
       "      <td>19.0</td>\n",
       "    </tr>\n",
       "    <tr>\n",
       "      <th>18</th>\n",
       "      <td>23.0</td>\n",
       "    </tr>\n",
       "    <tr>\n",
       "      <th>7</th>\n",
       "      <td>29.5</td>\n",
       "    </tr>\n",
       "  </tbody>\n",
       "</table>\n",
       "</div>"
      ],
      "text/plain": [
       "    weight_kg\n",
       "23       22.5\n",
       "9        18.5\n",
       "34       19.0\n",
       "18       23.0\n",
       "7        29.5"
      ]
     },
     "execution_count": 48,
     "metadata": {},
     "output_type": "execute_result"
    }
   ],
   "source": [
    "# 1. Read the data\n",
    "berat_tikus = pd.read_csv(\"data_assignment.csv\")\n",
    "berat_tikus.sample(5)"
   ]
  },
  {
   "cell_type": "code",
   "execution_count": 49,
   "metadata": {},
   "outputs": [
    {
     "data": {
      "text/html": [
       "<div>\n",
       "<style scoped>\n",
       "    .dataframe tbody tr th:only-of-type {\n",
       "        vertical-align: middle;\n",
       "    }\n",
       "\n",
       "    .dataframe tbody tr th {\n",
       "        vertical-align: top;\n",
       "    }\n",
       "\n",
       "    .dataframe thead th {\n",
       "        text-align: right;\n",
       "    }\n",
       "</style>\n",
       "<table border=\"1\" class=\"dataframe\">\n",
       "  <thead>\n",
       "    <tr style=\"text-align: right;\">\n",
       "      <th></th>\n",
       "      <th>weight_kg</th>\n",
       "    </tr>\n",
       "  </thead>\n",
       "  <tbody>\n",
       "    <tr>\n",
       "      <th>count</th>\n",
       "      <td>59.000000</td>\n",
       "    </tr>\n",
       "    <tr>\n",
       "      <th>mean</th>\n",
       "      <td>23.915254</td>\n",
       "    </tr>\n",
       "    <tr>\n",
       "      <th>std</th>\n",
       "      <td>4.742646</td>\n",
       "    </tr>\n",
       "    <tr>\n",
       "      <th>min</th>\n",
       "      <td>10.000000</td>\n",
       "    </tr>\n",
       "    <tr>\n",
       "      <th>25%</th>\n",
       "      <td>21.000000</td>\n",
       "    </tr>\n",
       "    <tr>\n",
       "      <th>50%</th>\n",
       "      <td>24.500000</td>\n",
       "    </tr>\n",
       "    <tr>\n",
       "      <th>75%</th>\n",
       "      <td>27.000000</td>\n",
       "    </tr>\n",
       "    <tr>\n",
       "      <th>max</th>\n",
       "      <td>35.000000</td>\n",
       "    </tr>\n",
       "  </tbody>\n",
       "</table>\n",
       "</div>"
      ],
      "text/plain": [
       "       weight_kg\n",
       "count  59.000000\n",
       "mean   23.915254\n",
       "std     4.742646\n",
       "min    10.000000\n",
       "25%    21.000000\n",
       "50%    24.500000\n",
       "75%    27.000000\n",
       "max    35.000000"
      ]
     },
     "execution_count": 49,
     "metadata": {},
     "output_type": "execute_result"
    }
   ],
   "source": [
    "# 2. Carilah summary statistik dari data tersebut\n",
    "berat_tikus.describe()"
   ]
  },
  {
   "cell_type": "code",
   "execution_count": 50,
   "metadata": {},
   "outputs": [
    {
     "name": "stderr",
     "output_type": "stream",
     "text": [
      "C:\\Users\\ramad\\AppData\\Local\\Temp\\ipykernel_11160\\2773037481.py:1: FutureWarning: Series.__getitem__ treating keys as positions is deprecated. In a future version, integer keys will always be treated as labels (consistent with DataFrame behavior). To access a value by position, use `ser.iloc[pos]`\n",
      "  mean = berat_tikus.mean()[0]\n",
      "C:\\Users\\ramad\\AppData\\Local\\Temp\\ipykernel_11160\\2773037481.py:2: FutureWarning: Series.__getitem__ treating keys as positions is deprecated. In a future version, integer keys will always be treated as labels (consistent with DataFrame behavior). To access a value by position, use `ser.iloc[pos]`\n",
      "  median = berat_tikus.median()[0]\n",
      "C:\\Users\\ramad\\AppData\\Local\\Temp\\ipykernel_11160\\2773037481.py:3: FutureWarning: Series.__getitem__ treating keys as positions is deprecated. In a future version, integer keys will always be treated as labels (consistent with DataFrame behavior). To access a value by position, use `ser.iloc[pos]`\n",
      "  stdev = berat_tikus.std()[0]\n"
     ]
    }
   ],
   "source": [
    "mean = berat_tikus.mean()[0]\n",
    "median = berat_tikus.median()[0]\n",
    "stdev = berat_tikus.std()[0]"
   ]
  },
  {
   "cell_type": "code",
   "execution_count": 51,
   "metadata": {},
   "outputs": [
    {
     "name": "stdout",
     "output_type": "stream",
     "text": [
      "Rata-rata berat tikus adalah 23.92 dan mediannya adalah 24.50\n"
     ]
    }
   ],
   "source": [
    "print(f\"Rata-rata berat tikus adalah {mean:.2f} dan mediannya adalah {median:.2f}\")"
   ]
  },
  {
   "cell_type": "code",
   "execution_count": 52,
   "metadata": {},
   "outputs": [
    {
     "data": {
      "image/png": "[encoded data removed]",
      "text/plain": [
       "<Figure size 640x480 with 1 Axes>"
      ]
     },
     "metadata": {},
     "output_type": "display_data"
    }
   ],
   "source": [
    "# 3. Visualisasikan menggunakan box plot\n",
    "berat_tikus.boxplot()\n",
    "plt.show()"
   ]
  },
  {
   "cell_type": "code",
   "execution_count": 53,
   "metadata": {},
   "outputs": [
    {
     "data": {
      "image/png": "[encoded data removed]",
      "text/plain": [
       "<Figure size 640x480 with 1 Axes>"
      ]
     },
     "metadata": {},
     "output_type": "display_data"
    }
   ],
   "source": [
    "# 4. Visualisasikan menggunakan histogram\n",
    "berat_tikus.hist()\n",
    "plt.show()"
   ]
  },
  {
   "cell_type": "markdown",
   "metadata": {},
   "source": [
    "5. Interpretasi: Dapat dilihat pada histogram diatas, distribusi berat tikus adalah distribusi normal karena distribusi atau sebagian besar data berkumpul pada rata-rata yaitu 24kg. Bisa dilihat juga pada boxplot ada satu data yang berada pada luar garis lowerbound, yang menandakan bahwa pada data tersebut memiliki oulier dan outliernya adalah tikus dengan berat 10kg. Pada data tikus ini puncak kurva atau distrbusi data terbanyak berada pada rentang berat 22.5kg sampai 27.5kg"
   ]
  },
  {
   "cell_type": "markdown",
   "metadata": {},
   "source": [
    "6. Uji one sample t-test untuk mengecek apakah rata-rata berat tikus = 25 kg\\\n",
    "Hipotesis:\\\n",
    "H0 = rata-rata berat tikus sama dengan 25kg\\\n",
    "H1 = rata-rata berat tikus tidak sama dengan 25kg"
   ]
  },
  {
   "cell_type": "code",
   "execution_count": 54,
   "metadata": {},
   "outputs": [],
   "source": [
    "# Cara manual (alpha = 0.05, n(jumlah data) = 59, df = 58)\n",
    "alpha = 0.05\n",
    "n = len(berat_tikus)\n",
    "df = n - 1\n",
    "mu = 25\n"
   ]
  },
  {
   "cell_type": "code",
   "execution_count": 55,
   "metadata": {},
   "outputs": [],
   "source": [
    "# Daerah penolakan (hipotesis 2 arah)\n",
    "import scipy.stats as stats\n",
    "dari_kiri = -1*stats.t.ppf(q=1-0.05/2,df=58)\n",
    "dari_kanan = stats.t.ppf(q=1-0.05/2,df=58)"
   ]
  },
  {
   "cell_type": "code",
   "execution_count": 56,
   "metadata": {},
   "outputs": [
    {
     "name": "stdout",
     "output_type": "stream",
     "text": [
      "Tidak memiliki cukup bukti untuk menolak hipotesis nol (H0)\n"
     ]
    }
   ],
   "source": [
    "#statistik uji dan kesimpulan\n",
    "t = (mean - mu)*(n**0.5)/stdev\n",
    "if (t>dari_kanan) or (t<dari_kiri):\n",
    "    print(\"Berhasil menolak H0, rata-rata berat tikus tidak sama dengan 25\")\n",
    "else:\n",
    "    print(\"Tidak memiliki cukup bukti untuk menolak hipotesis nol (H0)\")"
   ]
  },
  {
   "cell_type": "code",
   "execution_count": 57,
   "metadata": {},
   "outputs": [
    {
     "data": {
      "text/plain": [
       "TtestResult(statistic=array([-1.75684411]), pvalue=array([0.08422228]), df=array([58]))"
      ]
     },
     "execution_count": 57,
     "metadata": {},
     "output_type": "execute_result"
    }
   ],
   "source": [
    "#Cara langsung\n",
    "stats.ttest_1samp(berat_tikus, popmean = 25)"
   ]
  },
  {
   "cell_type": "markdown",
   "metadata": {},
   "source": [
    "Dari cara langsung didapatkan nilai p-value>alpha yaitu 0.08422228>0.05, dengan itu kesimpulannya gagal menolak H0"
   ]
  },
  {
   "cell_type": "markdown",
   "metadata": {},
   "source": [
    "7. Intepretasi hasil:\\\n",
    "Berdasarkan sampel 58 tikus, hasil uji hipotesis dengan p-value > alpha (0.05) pada tingkat kepercayaan 95%, menunjukkan bahwa tidak ada cukup bukti statistik untuk menolak hipotesis nol. Dengan rata-rata berat tikus sekitar 23.92kg dan median 24.50kg, dapat disimpulkan bahwa berat tikus sama atau berkisar pada 25kg berdasarkan data yang diperoleh."
   ]
  },
  {
   "cell_type": "code",
   "execution_count": null,
   "metadata": {},
   "outputs": [],
   "source": []
  }
 ],
 "metadata": {
  "kernelspec": {
   "display_name": "Python 3",
   "language": "python",
   "name": "python3"
  },
  "language_info": {
   "codemirror_mode": {
    "name": "ipython",
    "version": 3
   },
   "file_extension": ".py",
   "mimetype": "text/x-python",
   "name": "python",
   "nbconvert_exporter": "python",
   "pygments_lexer": "ipython3",
   "version": "3.11.1"
  }
 },
 "nbformat": 4,
 "nbformat_minor": 2
}
