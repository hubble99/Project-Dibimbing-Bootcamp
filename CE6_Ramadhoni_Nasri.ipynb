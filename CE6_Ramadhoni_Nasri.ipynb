{
  "cells": [
    {
      "cell_type": "markdown",
      "metadata": {
        "id": "c6466255"
      },
      "source": [
        "## Welcome To Coding Exercise 5\n",
        "\n",
        "**You only need to answer 2 question**"
      ],
      "id": "c6466255"
    },
    {
      "cell_type": "markdown",
      "metadata": {
        "id": "a7c27789"
      },
      "source": [
        "Hari ini, kita sedang membahas library yang sangat penting dalam Python yang disebut `numpy`. Minggu depan, kita akan membahas library lain yang sangat penting di Python bernama `pandas`. Untuk Latihan 9 dan 10, tidak akan ada pengkodean `R`.\n",
        "\n",
        "Kita akan kembali ke `R` di Day 11.\n",
        "\n",
        "Sebagai referensi, kedua library ini menjadi syarat utama Data Scientist di perusahaan teknologi papan atas Indonesia - sedangkan R tidak tercantum dalam persyaratan.\n",
        "\n",
        "Jadi, sangat penting untuk menguasai kedua library ini."
      ],
      "id": "a7c27789"
    },
    {
      "cell_type": "code",
      "execution_count": 20,
      "metadata": {
        "id": "16fc201b"
      },
      "outputs": [],
      "source": [
        "# !pip install -U IPython"
      ],
      "id": "16fc201b"
    },
    {
      "cell_type": "code",
      "execution_count": 21,
      "metadata": {
        "id": "ccc51955"
      },
      "outputs": [],
      "source": [
        "# from IPython.display import Image\n",
        "# Image(url= \"img/image1.jpg\", width=400, height=400)"
      ],
      "id": "ccc51955"
    },
    {
      "cell_type": "code",
      "execution_count": 22,
      "metadata": {
        "id": "d70e4ba5"
      },
      "outputs": [],
      "source": [
        "# from IPython.display import Image\n",
        "# Image(url= \"img/image2.jpg\", width=400, height=400)"
      ],
      "id": "d70e4ba5"
    },
    {
      "cell_type": "markdown",
      "source": [
        "![image1.jpg](https://drive.google.com/uc?id=1_T8LPxMaYq06uW9JNqOy6Y0yIu_p9EZU)"
      ],
      "metadata": {
        "id": "YeZX0LT7OOxv"
      },
      "id": "YeZX0LT7OOxv"
    },
    {
      "cell_type": "markdown",
      "source": [
        "![image2.jpg](https://drive.google.com/uc?id=15E-Od0G_2eqvCnR9t8Div5V4adnGbswA)"
      ],
      "metadata": {
        "id": "gZCRWVapOrh-"
      },
      "id": "gZCRWVapOrh-"
    },
    {
      "cell_type": "markdown",
      "metadata": {
        "id": "3a19695c"
      },
      "source": [
        "### Numpy Question 1"
      ],
      "id": "3a19695c"
    },
    {
      "cell_type": "code",
      "execution_count": 23,
      "metadata": {
        "id": "34c5e1be"
      },
      "outputs": [],
      "source": [
        "import numpy as np"
      ],
      "id": "34c5e1be"
    },
    {
      "cell_type": "markdown",
      "metadata": {
        "id": "ce57b62e"
      },
      "source": [
        "Fungsi Anda akan disebut `display_max`. Input Anda akan berupa `numpy array`. Output Anda akan memberi tahu di mana indeks adalah nilai maksimum dari setiap baris. Pisahkan output untuk setiap baris dengan koma.\n",
        "\n",
        "Jika ada lebih dari satu nilai maksimum, beri tahu posisi kejadian PERTAMA saja.\n",
        "\n",
        "#### Example 1\n",
        "\n",
        "Input array: `[[1,2,3,4,3], [5,10,8,3,2], [-5,7,8.4,1,0]]`\n",
        "\n",
        "Output: 3, 1, 2\n",
        "\n",
        "Penjelasan:\n",
        "\n",
        "- Baris pertama, `[1,2,3,4,3]`, memiliki nilai maksimum `4` pada indeks = 3 (Ingat! Ini Python. Indeks dimulai dari 0)\n",
        "\n",
        "- Baris kedua, `[5,10,8,3,2]`, memiliki nilai maksimum `10` pada indeks = 1\n",
        "\n",
        "- Baris ketiga, `[-5,7,8.4,1,0]`, memiliki nilai maksimum `8,4` pada indeks = 2\n",
        "\n",
        "Jadi, output Anda akan '3,1,2'\n",
        "\n",
        "#### Example 2\n",
        "\n",
        "Input array = `[[5,10,1,3], [1,5,1,5], [0,3,1,8]]`\n",
        "\n",
        "Output: 1,1,3\n",
        "\n",
        "Penjelasan:\n",
        "\n",
        "- Baris pertama, `[5,10,1,3]` memiliki nilai maksimum `10` pada indeks = 1\n",
        "- Baris kedua, `[1,5,1,5]` memiliki nilai maksimum `5` pada indeks = 1, 3. Tetapi kita hanya perlu mencetak kemunculan pertama, jadi kita hanya mencetak indeks = 1.\n",
        "- Baris ketiga, `[0,3,1,8]` memiliki nilai maksimum `8` pada indeks = 3.\n",
        "\n",
        "Jadi, output Anda akan '1,1,3'\n",
        "\n",
        "#### Constrains:\n",
        "- Jumlah baris bisa bilangan bulat berapa saja. Kita dapat memiliki input array dalam berbagai bentuk dan ukuran."
      ],
      "id": "ce57b62e"
    },
    {
      "cell_type": "code",
      "execution_count": 24,
      "metadata": {
        "id": "afc8949f"
      },
      "outputs": [],
      "source": [
        "def display_max(input_array):\n",
        "  input_array = np.array([np.array(row) for row in input_array])\n",
        "  max_index = []\n",
        "  for i in input_array:\n",
        "    max_index.append(np.where(i == i.max())[0][0])\n",
        "  print(f\"'{','.join(map(str, max_index))}'\")"
      ],
      "id": "afc8949f"
    },
    {
      "cell_type": "code",
      "source": [
        "display_max(np.array([[5,10,1,3], [1,5,1,5], [0,3,1,8]]))"
      ],
      "metadata": {
        "colab": {
          "base_uri": "https://localhost:8080/"
        },
        "id": "2GO6mUDVPrul",
        "outputId": "2cd22d5b-71fe-4c26-9d7b-56c69e068473"
      },
      "id": "2GO6mUDVPrul",
      "execution_count": 25,
      "outputs": [
        {
          "output_type": "stream",
          "name": "stdout",
          "text": [
            "'1,1,3'\n"
          ]
        }
      ]
    },
    {
      "cell_type": "code",
      "source": [
        "array1=np.array([[1,2,3,4,3], [5,10,8,3,2], [-5,7,8.4,1,0]])\n",
        "display_max(array1)"
      ],
      "metadata": {
        "colab": {
          "base_uri": "https://localhost:8080/"
        },
        "id": "RMoB2zF2SQHz",
        "outputId": "b90b7be8-de16-438b-f703-1fa274f02077"
      },
      "id": "RMoB2zF2SQHz",
      "execution_count": 26,
      "outputs": [
        {
          "output_type": "stream",
          "name": "stdout",
          "text": [
            "'3,1,2'\n"
          ]
        }
      ]
    },
    {
      "cell_type": "code",
      "source": [
        "array2=np.array([[1,2,3,4,3], [5,10,8,3,2], [-5,7,8.4,1,0],[80,50,80,60,70],[2,3,1,2]])\n",
        "display_max(array2)"
      ],
      "metadata": {
        "colab": {
          "base_uri": "https://localhost:8080/"
        },
        "id": "dqEVv_fhSnX4",
        "outputId": "52aab738-2dbb-453a-f398-3c24662cf59e"
      },
      "id": "dqEVv_fhSnX4",
      "execution_count": 27,
      "outputs": [
        {
          "output_type": "stream",
          "name": "stdout",
          "text": [
            "'3,1,2,0,1'\n"
          ]
        },
        {
          "output_type": "stream",
          "name": "stderr",
          "text": [
            "<ipython-input-27-6e7963126825>:1: VisibleDeprecationWarning: Creating an ndarray from ragged nested sequences (which is a list-or-tuple of lists-or-tuples-or ndarrays with different lengths or shapes) is deprecated. If you meant to do this, you must specify 'dtype=object' when creating the ndarray.\n",
            "  array2=np.array([[1,2,3,4,3], [5,10,8,3,2], [-5,7,8.4,1,0],[80,50,80,60,70],[2,3,1,2]])\n",
            "<ipython-input-24-ffdacf18b58a>:2: VisibleDeprecationWarning: Creating an ndarray from ragged nested sequences (which is a list-or-tuple of lists-or-tuples-or ndarrays with different lengths or shapes) is deprecated. If you meant to do this, you must specify 'dtype=object' when creating the ndarray.\n",
            "  input_array = np.array([np.array(row) for row in input_array])\n"
          ]
        }
      ]
    },
    {
      "cell_type": "markdown",
      "metadata": {
        "id": "56ec00a5"
      },
      "source": [
        "### Numpy Question 2\n"
      ],
      "id": "56ec00a5"
    },
    {
      "cell_type": "markdown",
      "metadata": {
        "id": "a93c3748"
      },
      "source": [
        "##### Reminder untuk Class Managers and Students. ####\n",
        "\n",
        "Jika solusi memiliki perulangan `for`,`while`, Anda tidak mendapatkan poin penuh. Tujuan dari latihan ini adalah untuk menghindari perulangan saat melakukan hal-hal yang membutuhkan kondisi tertentu."
      ],
      "id": "a93c3748"
    },
    {
      "cell_type": "markdown",
      "metadata": {
        "id": "ab8fc5f3"
      },
      "source": [
        "#### Instructions: ####"
      ],
      "id": "ab8fc5f3"
    },
    {
      "cell_type": "markdown",
      "metadata": {
        "id": "95fe6946"
      },
      "source": [
        "Fungsi Anda akan bernama `grade`. Input Anda akan berupa array di mana setiap baris menunjukkan skor siswa. Output Anda akan berupa array DENGAN UKURAN YANG SAMA PERSIS dengan array input, tetapi hanya diisi dengan 'P' dan 'F'.\n",
        "\n",
        "- Jika nilai >= 70, maka untuk tes tersebut siswa dinyatakan lulus. Kita beri simbol 'P' untuk menandakan bahwa siswa tersebut lulus.\n",
        "- Jika skornya < 70, maka untuk tes tersebut, siswa tersebut gagal. Kita beri simbol 'F', untuk menandakan bahwa siswa tersebut gagal."
      ],
      "id": "95fe6946"
    },
    {
      "cell_type": "markdown",
      "metadata": {
        "id": "7a53a67f"
      },
      "source": [
        "#### Example 1:"
      ],
      "id": "7a53a67f"
    },
    {
      "cell_type": "code",
      "execution_count": 28,
      "metadata": {
        "id": "04e3a36f",
        "outputId": "5343cfb6-9abd-43c6-da9e-77f421711481",
        "colab": {
          "base_uri": "https://localhost:8080/"
        }
      },
      "outputs": [
        {
          "output_type": "execute_result",
          "data": {
            "text/plain": [
              "array([[ 80,  50,  80,  60,  70],\n",
              "       [100,  90,  80,  70,  50],\n",
              "       [ 70,  70,  60,  50,  85]])"
            ]
          },
          "metadata": {},
          "execution_count": 28
        }
      ],
      "source": [
        "input_array1 = np.array([[80,50,80,60,70],\n",
        "                       [100,90,80,70,50],\n",
        "                       [70,70,60,50,85]])\n",
        "input_array1"
      ],
      "id": "04e3a36f"
    },
    {
      "cell_type": "markdown",
      "metadata": {
        "id": "a38c80f4"
      },
      "source": [
        "Jika inputnya seperti array di atas, berarti kita memiliki `3` siswa. Setiap siswa memiliki `5` nilai.\n",
        "\n",
        "- Nilai siswa pertama adalah: 80, 50, 80, 60, 70. Dari awal hingga akhir, siswa Lulus, Gagal, Lulus, Gagal, Lulus\n",
        "- Nilai siswa kedua adalah: 100, 90, 80, 70, 50. Dari pertama sampai terakhir, siswa Lulus, Lulus, Lulus, Lulus, Gagal\n",
        "- Nilai siswa ketiga adalah: 70, 70, 60, 50, 80. Dari awal hingga akhir, siswa Lulus, Lulus, Gagal, Gagal, Lulus"
      ],
      "id": "a38c80f4"
    },
    {
      "cell_type": "markdown",
      "metadata": {
        "id": "b04480c7"
      },
      "source": [
        "Kemudian, ketika `grade(input_array)` dijalankan, output Anda akan seperti ini:\n",
        "`[[P,F,P,F,P],[P,P,P,P,F],[P,P,F,F,P]]`"
      ],
      "id": "b04480c7"
    },
    {
      "cell_type": "markdown",
      "metadata": {
        "id": "f04f7a81"
      },
      "source": [
        "#### Example 2:"
      ],
      "id": "f04f7a81"
    },
    {
      "cell_type": "code",
      "execution_count": 29,
      "metadata": {
        "id": "4fed75f0",
        "outputId": "1e810db5-4fda-44ca-e36d-bbd581695bb9",
        "colab": {
          "base_uri": "https://localhost:8080/"
        }
      },
      "outputs": [
        {
          "output_type": "execute_result",
          "data": {
            "text/plain": [
              "array([[100,  50, 100],\n",
              "       [ 70,  70,  70],\n",
              "       [ 40,  80,  40],\n",
              "       [ 50,  55,  80]])"
            ]
          },
          "metadata": {},
          "execution_count": 29
        }
      ],
      "source": [
        "input_array2 = np.array([[100,50,100],\n",
        "                       [70,70,70],\n",
        "                       [40,80,40],\n",
        "                       [50,55,80]])\n",
        "input_array2"
      ],
      "id": "4fed75f0"
    },
    {
      "cell_type": "markdown",
      "metadata": {
        "id": "5c41c5f8"
      },
      "source": [
        "Jika inputnya seperti array di atas, berarti kita memiliki `4` siswa . Setiap siswa memiliki `3` nilai. Kemudian, ketika fungsi `grade(input_array)` dijalankan, output Anda akan seperti ini:"
      ],
      "id": "5c41c5f8"
    },
    {
      "cell_type": "markdown",
      "metadata": {
        "id": "1519c86f"
      },
      "source": [
        "`[[P,F,P], [P,P,P], [F,P,F], [F,F,P]]`"
      ],
      "id": "1519c86f"
    },
    {
      "cell_type": "code",
      "execution_count": 30,
      "metadata": {
        "id": "f98be5ff"
      },
      "outputs": [],
      "source": [
        "def grade(input_array):\n",
        "    ### Write your solution here ###\n",
        "    result_array = np.where(input_array >= 70, 'P','F')\n",
        "    return result_array"
      ],
      "id": "f98be5ff"
    },
    {
      "cell_type": "code",
      "source": [
        "grade(input_array1)"
      ],
      "metadata": {
        "colab": {
          "base_uri": "https://localhost:8080/"
        },
        "id": "4XoftP6CY2tP",
        "outputId": "7c7a3602-52ae-401f-8614-d86575943b6f"
      },
      "id": "4XoftP6CY2tP",
      "execution_count": 31,
      "outputs": [
        {
          "output_type": "execute_result",
          "data": {
            "text/plain": [
              "array([['P', 'F', 'P', 'F', 'P'],\n",
              "       ['P', 'P', 'P', 'P', 'F'],\n",
              "       ['P', 'P', 'F', 'F', 'P']], dtype='<U1')"
            ]
          },
          "metadata": {},
          "execution_count": 31
        }
      ]
    },
    {
      "cell_type": "code",
      "source": [
        "grade(input_array2)"
      ],
      "metadata": {
        "colab": {
          "base_uri": "https://localhost:8080/"
        },
        "id": "ceQ3J3sPkl_9",
        "outputId": "e44c277b-0286-42ab-c150-c91d2e177f6c"
      },
      "id": "ceQ3J3sPkl_9",
      "execution_count": 32,
      "outputs": [
        {
          "output_type": "execute_result",
          "data": {
            "text/plain": [
              "array([['P', 'F', 'P'],\n",
              "       ['P', 'P', 'P'],\n",
              "       ['F', 'P', 'F'],\n",
              "       ['F', 'F', 'P']], dtype='<U1')"
            ]
          },
          "metadata": {},
          "execution_count": 32
        }
      ]
    },
    {
      "cell_type": "code",
      "execution_count": 33,
      "metadata": {
        "id": "6271eaf5"
      },
      "outputs": [],
      "source": [
        "def grade(input_array):\n",
        "    ### Write your solution here ###\n",
        "    result_array = np.where(input_array >= 70, 'P','F')\n",
        "    list_result = result_array.tolist()\n",
        "    return list_result"
      ],
      "id": "6271eaf5"
    },
    {
      "cell_type": "code",
      "source": [
        "grade(input_array1)"
      ],
      "metadata": {
        "colab": {
          "base_uri": "https://localhost:8080/"
        },
        "id": "qcKXA243ZKz_",
        "outputId": "c04a7e89-04dc-4e18-895e-7d5903297010"
      },
      "id": "qcKXA243ZKz_",
      "execution_count": 34,
      "outputs": [
        {
          "output_type": "execute_result",
          "data": {
            "text/plain": [
              "[['P', 'F', 'P', 'F', 'P'],\n",
              " ['P', 'P', 'P', 'P', 'F'],\n",
              " ['P', 'P', 'F', 'F', 'P']]"
            ]
          },
          "metadata": {},
          "execution_count": 34
        }
      ]
    },
    {
      "cell_type": "code",
      "source": [
        "grade(input_array2)"
      ],
      "metadata": {
        "colab": {
          "base_uri": "https://localhost:8080/"
        },
        "id": "kO45i4y_ktS8",
        "outputId": "10162c49-aae3-493d-b0ff-342fc2e3685a"
      },
      "id": "kO45i4y_ktS8",
      "execution_count": 35,
      "outputs": [
        {
          "output_type": "execute_result",
          "data": {
            "text/plain": [
              "[['P', 'F', 'P'], ['P', 'P', 'P'], ['F', 'P', 'F'], ['F', 'F', 'P']]"
            ]
          },
          "metadata": {},
          "execution_count": 35
        }
      ]
    },
    {
      "cell_type": "code",
      "source": [
        "def grade(input_array):\n",
        "    ### Write your solution here ###\n",
        "    result_array = np.where(input_array >= 70, 'P','F')\n",
        "    list_result = result_array.tolist()\n",
        "    print(str(list_result).replace(\"'\", \"\"))"
      ],
      "metadata": {
        "id": "PGVP0hypaeZ0"
      },
      "id": "PGVP0hypaeZ0",
      "execution_count": 36,
      "outputs": []
    },
    {
      "cell_type": "code",
      "source": [
        "grade(input_array1)"
      ],
      "metadata": {
        "colab": {
          "base_uri": "https://localhost:8080/"
        },
        "id": "jiKBdVxwamM6",
        "outputId": "47e81ae8-14c7-413d-e2b4-0f9642a64793"
      },
      "id": "jiKBdVxwamM6",
      "execution_count": 37,
      "outputs": [
        {
          "output_type": "stream",
          "name": "stdout",
          "text": [
            "[[P, F, P, F, P], [P, P, P, P, F], [P, P, F, F, P]]\n"
          ]
        }
      ]
    },
    {
      "cell_type": "code",
      "source": [
        "grade(input_array2)"
      ],
      "metadata": {
        "colab": {
          "base_uri": "https://localhost:8080/"
        },
        "id": "Eo98xjDHk2eW",
        "outputId": "d1d4a206-5861-4c2e-db7e-324312aae952"
      },
      "id": "Eo98xjDHk2eW",
      "execution_count": 38,
      "outputs": [
        {
          "output_type": "stream",
          "name": "stdout",
          "text": [
            "[[P, F, P], [P, P, P], [F, P, F], [F, F, P]]\n"
          ]
        }
      ]
    },
    {
      "cell_type": "markdown",
      "metadata": {
        "id": "4062c7fe"
      },
      "source": [
        "### Numpy Question 3"
      ],
      "id": "4062c7fe"
    },
    {
      "cell_type": "markdown",
      "metadata": {
        "id": "2467cc66"
      },
      "source": [
        "Nama fungsi Anda adalah `one_hot`, dan input fungsi Anda adalah array numpy.\n",
        "\n",
        "Dalam tugas ini, Anda diminta untuk mengonversi array integer menjadi one hot encoding.\n",
        "\n",
        "Ini berguna dalam machine learning dan bahkan kasus deep learning, di mana kita ingin melakukan eature engineering, represent categorical classes, dll.\n",
        "\n",
        "Resource on one-hot-encoding: https://machinelearningmastery.com/why-one-hot-encode-data-in-machine-learning/"
      ],
      "id": "2467cc66"
    },
    {
      "cell_type": "markdown",
      "metadata": {
        "id": "68c5968a"
      },
      "source": [
        "#### Example 1:\n",
        "\n",
        "Jika array inputnya adalah `[2,3,1,2]` maka versi one hot encodingnya adalah:\n",
        "\n",
        "`[[0,1,0], [0,0,1], [1,0,0], [0,1,0]]`\n",
        "\n",
        "Penjelasan: ada 3 bilangan bulat unik: 1, 2, dan 3. Jika kita ingin merepresentasikannya dengan one-hot encoding, kita harus merepresentasikannya dalam `0 dan 1`.\n",
        "\n",
        "Karena ada 3 bilangan bulat unik, kita merepresentasikannya dalam 3 urutan `0 dan 1`.\n",
        "\n",
        "1 direpresentasikan sebagai `[1, 0, 0]`\n",
        "2 direpresentasikan sebagai `[0, 1, 0]`\n",
        "3 direpresentasikan sebagai `[0, 0, 1]`\n",
        "\n",
        "Jadi, jika `input_array` adalah `np.array([2,3,1,2])`\n",
        "Dan array diteruskan ke fungsi Anda ..\n",
        "\n",
        "`one_hot(input_array)` sama dengan `array([[0,1,0], [0,0,1], [1,0,0], [0,1,0]])`\n",
        "\n",
        "#### Example 2\n",
        "\n",
        "Jika larik inputnya adalah `[4,2,1,3]` maka versi one hot encodingnya adalah:\n",
        "\n",
        "`[[0,0,0,1], [0,1,0,0], [1,0,0,0], [0,0,1,0]]`\n",
        "\n",
        "Penjelasan: ada 4 integer unik: 1, 2, 3, dan 4. Jika kita ingin merepresentasikannya dengan one-hot encoding, kita harus merepresentasikannya dalam `0 dan 1`.\n",
        "\n",
        "Karena ada 4 integer unik, kita merepresentasikannya dalam 4 urutan `0 dan 1`.\n",
        "\n",
        "1 direpresentasikan sebagai `[1, 0, 0, 0]`\n",
        "2 direpresentasikan sebagai `[0, 1, 0, 0]`\n",
        "3 direpresentasikan sebagai `[0, 0, 1, 0]`\n",
        "4 direpresentasikan sebagai `[0, 0, 0, 1]`\n",
        "\n",
        "Jadi, jika `input_array` adalah `np.array([4,2,1,3])`\n",
        "Dan array diteruskan ke fungsi Anda ..\n",
        "\n",
        "`one_hot(input_array)` sama dengan `array([[0,0,0,1], [0,1,0,0], [1,0,0,0], [0,0,1,0 ]])`\n",
        "\n",
        "\n",
        "#### Constrains:\n",
        "\n",
        "- Bilangan bulat dalam array input akan dimulai dengan 1.\n",
        "- Bilangan bulat dalam array input tidak akan bernilai nol atau negatif.\n",
        "- Bilangan bulat tidak akan dilewati (misalnya, array input tidak mungkin memiliki [4,1,2] karena 3 tidak ada).\n",
        "\n"
      ],
      "id": "68c5968a"
    },
    {
      "cell_type": "code",
      "execution_count": 39,
      "metadata": {
        "id": "bfc0fc16"
      },
      "outputs": [],
      "source": [
        "def one_hot(input_array):\n",
        "    ### Write your solution here ###\n",
        "    encode1 = input_array\n",
        "    # Bentuk matriks 0 sebanyak panjang dari input sebagai total baris, dan\n",
        "    # Nilai max pada array sebagai jumlah kolom array\n",
        "    result = np.full((len(encode1),encode1.max()), 0)\n",
        "\n",
        "    # Mengisi angka 1 sesuai dengan sesuai dengan nomor kolom dan barisnya\n",
        "    for i in range(len(result)):\n",
        "      for j in range(len(result[i])):\n",
        "        if j == encode1[i]-1:\n",
        "          result[i][j] = 1\n",
        "\n",
        "    return result"
      ],
      "id": "bfc0fc16"
    },
    {
      "cell_type": "code",
      "execution_count": 40,
      "metadata": {
        "id": "2b9f24ec",
        "colab": {
          "base_uri": "https://localhost:8080/"
        },
        "outputId": "7502d1a0-2a27-4751-fa66-eee785e736ae"
      },
      "outputs": [
        {
          "output_type": "execute_result",
          "data": {
            "text/plain": [
              "array([[0, 0, 0, 1],\n",
              "       [0, 1, 0, 0],\n",
              "       [1, 0, 0, 0],\n",
              "       [0, 0, 1, 0]])"
            ]
          },
          "metadata": {},
          "execution_count": 40
        }
      ],
      "source": [
        "encode1 = np.array([4,2,1,3])\n",
        "one_hot(encode1)"
      ],
      "id": "2b9f24ec"
    },
    {
      "cell_type": "code",
      "execution_count": 41,
      "metadata": {
        "id": "0f654980",
        "colab": {
          "base_uri": "https://localhost:8080/"
        },
        "outputId": "3a8ae169-ccb5-4b11-cb64-2e1d6e707c80"
      },
      "outputs": [
        {
          "output_type": "execute_result",
          "data": {
            "text/plain": [
              "array([[0, 0, 0, 1, 0, 0],\n",
              "       [0, 1, 0, 0, 0, 0],\n",
              "       [1, 0, 0, 0, 0, 0],\n",
              "       [0, 0, 1, 0, 0, 0],\n",
              "       [0, 0, 0, 0, 0, 1]])"
            ]
          },
          "metadata": {},
          "execution_count": 41
        }
      ],
      "source": [
        "encode2 = np.array([4,2,1,3,6])\n",
        "one_hot(encode2)"
      ],
      "id": "0f654980"
    },
    {
      "cell_type": "code",
      "source": [
        "encode3 = np.array([4,2,12,3,6,2])\n",
        "one_hot(encode3)"
      ],
      "metadata": {
        "colab": {
          "base_uri": "https://localhost:8080/"
        },
        "id": "HZ703u7AkEpD",
        "outputId": "c55d57cc-b66c-4cad-d2ff-227fe00c0391"
      },
      "id": "HZ703u7AkEpD",
      "execution_count": 42,
      "outputs": [
        {
          "output_type": "execute_result",
          "data": {
            "text/plain": [
              "array([[0, 0, 0, 1, 0, 0, 0, 0, 0, 0, 0, 0],\n",
              "       [0, 1, 0, 0, 0, 0, 0, 0, 0, 0, 0, 0],\n",
              "       [0, 0, 0, 0, 0, 0, 0, 0, 0, 0, 0, 1],\n",
              "       [0, 0, 1, 0, 0, 0, 0, 0, 0, 0, 0, 0],\n",
              "       [0, 0, 0, 0, 0, 1, 0, 0, 0, 0, 0, 0],\n",
              "       [0, 1, 0, 0, 0, 0, 0, 0, 0, 0, 0, 0]])"
            ]
          },
          "metadata": {},
          "execution_count": 42
        }
      ]
    }
  ],
  "metadata": {
    "colab": {
      "provenance": []
    },
    "kernelspec": {
      "display_name": "Python 3",
      "language": "python",
      "name": "python3"
    },
    "language_info": {
      "codemirror_mode": {
        "name": "ipython",
        "version": 3
      },
      "file_extension": ".py",
      "mimetype": "text/x-python",
      "name": "python",
      "nbconvert_exporter": "python",
      "pygments_lexer": "ipython3",
      "version": "3.7.0"
    }
  },
  "nbformat": 4,
  "nbformat_minor": 5
}