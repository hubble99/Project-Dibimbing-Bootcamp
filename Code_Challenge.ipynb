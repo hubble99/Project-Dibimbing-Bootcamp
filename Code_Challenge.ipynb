{
  "cells": [
    {
      "cell_type": "markdown",
      "id": "190a46a5",
      "metadata": {
        "id": "190a46a5"
      },
      "source": [
        "Code Challenge : Membantu siswa dalam mengasa kemampuan berfikir kritis menyelesaikan kasus dalam bentuk pemrograman"
      ]
    },
    {
      "cell_type": "markdown",
      "id": "16f30f25",
      "metadata": {
        "id": "16f30f25"
      },
      "source": [
        "# Code Challenge"
      ]
    },
    {
      "cell_type": "markdown",
      "id": "6c585241",
      "metadata": {
        "id": "6c585241"
      },
      "source": [
        "1. Tulis program Python sederhana yang meminta pengguna untuk memasukkan dua angka, kemudian menghitung dan mencetak hasil penjumlahan kedua angka tersebut."
      ]
    },
    {
      "cell_type": "code",
      "execution_count": 1,
      "metadata": {},
      "outputs": [
        {
          "name": "stdout",
          "output_type": "stream",
          "text": [
            "5+4=9\n"
          ]
        }
      ],
      "source": [
        "a = int(input('Masukkan angka pertama! '))\n",
        "b = int(input('Masukkan angka kedua! '))\n",
        "print(f\"{a}+{b}={a+b}\")"
      ]
    },
    {
      "cell_type": "markdown",
      "id": "7b54ae33",
      "metadata": {
        "id": "7b54ae33"
      },
      "source": [
        "2. Buatlah program Python yang meminta pengguna untuk memasukkan jari-jari lingkaran, dan kemudian menghitung dan mencetak luas lingkaran tersebut. Gunakan rumus luas lingkaran: Luas = π * r^2, dengan π (pi) bernilai 3.14."
      ]
    },
    {
      "cell_type": "code",
      "execution_count": 4,
      "metadata": {},
      "outputs": [
        {
          "name": "stdout",
          "output_type": "stream",
          "text": [
            "Luas lingkaran adalah 201.06192982974676.2f\n"
          ]
        }
      ],
      "source": [
        "from math import pi\n",
        "r = float(input(\"Masukkan jari-jari lingkaran! \"))\n",
        "luas = pi*r*r\n",
        "print(f\"Luas lingkaran adalah {luas}\")"
      ]
    },
    {
      "cell_type": "markdown",
      "id": "2ea95cab",
      "metadata": {
        "id": "2ea95cab"
      },
      "source": [
        "3. Buatlah program Python yang meminta pengguna untuk memasukkan sebuah bilangan bulat positif, lalu menghitung dan mencetak faktorial dari bilangan tersebut. Faktorial dari bilangan bulat n (dilambangkan dengan n!) adalah hasil perkalian semua bilangan bulat positif dari 1 hingga n.\n",
        "\n",
        "  Example : <br>\n",
        "Masukkan bilangan bulat positif: 5\n",
        "Faktorial dari 5 adalah: 120\n"
      ]
    },
    {
      "cell_type": "code",
      "execution_count": 7,
      "metadata": {},
      "outputs": [
        {
          "data": {
            "text/plain": [
              "120"
            ]
          },
          "execution_count": 7,
          "metadata": {},
          "output_type": "execute_result"
        }
      ],
      "source": [
        "angka = int(input(\"Masukkan angka!(BILANGAN BULAT POSITIF) \"))\n",
        "faktorial = 1\n",
        "if angka == 1:\n",
        "    faktorial = 1\n",
        "else:\n",
        "    for i in range(angka):\n",
        "        faktorial = (i+1)*faktorial\n",
        "faktorial"
      ]
    },
    {
      "cell_type": "markdown",
      "id": "03ac4a8f",
      "metadata": {
        "id": "03ac4a8f"
      },
      "source": [
        "4. Tulis program Python yang meminta pengguna memasukkan sebuah bilangan bulat positif, dan kemudian menentukan apakah bilangan tersebut adalah bilangan prima atau bukan. Sebuah bilangan prima hanya memiliki dua faktor positif, yaitu 1 dan dirinya sendiri\n",
        "\n",
        "  Example :\n",
        "Masukkan bilangan bulat positif: 7\n",
        "7 adalah bilangan prima.\n",
        "\n",
        "  Masukkan bilangan bulat positif: 12\n",
        "12 bukan bilangan prima."
      ]
    },
    {
      "cell_type": "code",
      "execution_count": 25,
      "metadata": {},
      "outputs": [
        {
          "name": "stdout",
          "output_type": "stream",
          "text": [
            "7 adalah bilangan prima.\n"
          ]
        }
      ],
      "source": [
        "bilangan = int(input(\"Masukkan bilangan bulat positif! \"))\n",
        "nonprima = 0\n",
        "if bilangan==1:\n",
        "    print(f\"{bilangan} bukan bilangan prima.\")\n",
        "elif bilangan == 2:\n",
        "    print(f\"{bilangan} adalah bilangan prima.\")\n",
        "else:\n",
        "    for i in range(bilangan):\n",
        "        if i == 1 or i == 0:\n",
        "            pass\n",
        "        else:\n",
        "            if bilangan % i == 0:\n",
        "                nonprima += 1\n",
        "    if nonprima==0:\n",
        "        print(f\"{bilangan} adalah bilangan prima.\")\n",
        "    elif nonprima > 0:\n",
        "        print(f\"{bilangan} bukan bilangan prima.\") \n",
        "              "
      ]
    },
    {
      "cell_type": "markdown",
      "id": "090858a5",
      "metadata": {
        "id": "090858a5"
      },
      "source": [
        "5. Buatlah program Python yang meminta pengguna untuk memasukkan sebuah kata atau frase, dan kemudian menentukan apakah kata atau frase tersebut merupakan palindrom (bisa dibaca sama dari depan maupun dari belakang).\n",
        "\n",
        "  Masukkan sebuah kata atau frase: radar\n",
        "radar adalah palindrom.\n",
        "\n",
        "  Masukkan sebuah kata atau frase: hello\n",
        "hello bukan palindrom."
      ]
    },
    {
      "cell_type": "code",
      "execution_count": 44,
      "metadata": {},
      "outputs": [
        {
          "name": "stdout",
          "output_type": "stream",
          "text": [
            "'aku suka rajawali, bila wajar aku suka' adalah palindrom\n"
          ]
        }
      ],
      "source": [
        "kata = input(\"Masukkan sebuah kata atau frase: \").lower()\n",
        "word = kata.replace(\" \", \"\")\n",
        "word = word.replace(\".\", \"\")\n",
        "word = word.replace(\",\", \"\")\n",
        "if word == word[::-1]:\n",
        "    print(f\"'{kata}' adalah palindrom\")\n",
        "else:\n",
        "    print(f\"'{kata}' bukan palindrom\")"
      ]
    },
    {
      "cell_type": "markdown",
      "id": "ccad9320",
      "metadata": {
        "id": "ccad9320"
      },
      "source": [
        "6. Buatlah sebuah program yang mengeluarkan output berupa profile seperti nama, kota asal, band favorit dan makan favorit.\n",
        "\n",
        "  Example :\n",
        "Nama : Zen\n",
        "Domisili : Kendari\n",
        "Band Favorit : JKT48\n",
        "Makanan Favorit : Nasi Goreng"
      ]
    },
    {
      "cell_type": "code",
      "execution_count": 1,
      "metadata": {},
      "outputs": [
        {
          "name": "stdout",
          "output_type": "stream",
          "text": [
            "Nama: Zen Domisili: Kendari Band Favorit: JKT48, Makanan Favorit: Nasi Goreng\n"
          ]
        }
      ],
      "source": [
        "def profile(nama, domisili, band, makanan):\n",
        "    print(f\"Nama: {nama} Domisili: {domisili} Band Favorit: {band}, Makanan Favorit: {makanan}\")\n",
        "profile(nama='Zen',domisili='Kendari',band='JKT48',makanan='Nasi Goreng')"
      ]
    },
    {
      "cell_type": "markdown",
      "id": "64918a4d",
      "metadata": {
        "id": "64918a4d"
      },
      "source": [
        "7. Buatlah sebuah program yang dapat menghitung luas total segitiga"
      ]
    },
    {
      "cell_type": "code",
      "execution_count": 52,
      "metadata": {},
      "outputs": [
        {
          "data": {
            "text/plain": [
              "49.0"
            ]
          },
          "execution_count": 52,
          "metadata": {},
          "output_type": "execute_result"
        }
      ],
      "source": [
        "alas = float(input(\"Masukkan panjang alas segitiga! \"))\n",
        "tinggi =  float(input(\"Masukkan ukuran tinggi segitiga! \"))\n",
        "luas = alas*tinggi/2\n",
        "luas"
      ]
    },
    {
      "cell_type": "markdown",
      "id": "37457ff6",
      "metadata": {
        "id": "37457ff6"
      },
      "source": [
        "8. Pak maman ingin menukarkan uangnya sejumlah RP. 32.892.700 kedalam pecahan uang Rp. 100.000 Rp 50.000 Rp. 10.000 Rp 5.000 Rp 1000 Rp 500 dan Rp 100 ke pak budi, Buatlah pemrograman python yang bisa membantu mempercepat pak Budi dalam menentukan berapa buah/lembar uang untuk masih masih pecahan tersebut"
      ]
    },
    {
      "cell_type": "code",
      "execution_count": 49,
      "metadata": {},
      "outputs": [],
      "source": [
        "uang = 23583200\n",
        "pecahan100rb = 0\n",
        "pecahan50rb = 0\n",
        "pecahan10rb = 0\n",
        "pecahan5rb = 0\n",
        "pecahan1rb = 0\n",
        "pecahan500 = 0\n",
        "pecahan100 = 0"
      ]
    },
    {
      "cell_type": "code",
      "execution_count": 51,
      "metadata": {},
      "outputs": [
        {
          "name": "stdout",
          "output_type": "stream",
          "text": [
            "Total pecahan 100rb adalah 235, 50rb adalah 1, 10rb adalah 3, 5rb adalah 0, 1rb adalah 3, 500 adalah 0, 100 adalah 2\n"
          ]
        }
      ],
      "source": [
        "while uang>0:\n",
        "    if uang >= 100000:\n",
        "        uang = uang - 100000\n",
        "        pecahan100rb += 1\n",
        "    elif uang < 100000 and uang > 50000:\n",
        "        uang = uang - 50000\n",
        "        pecahan50rb += 1\n",
        "    elif uang < 50000 and uang > 10000:\n",
        "        uang = uang - 10000\n",
        "        pecahan10rb += 1\n",
        "    elif uang < 10000 and uang >5000:\n",
        "        uang = uang - 5000\n",
        "        pecahan5rb += 1\n",
        "    elif uang < 5000 and uang >1000:\n",
        "        uang = uang - 1000\n",
        "        pecahan1rb += 1  \n",
        "    elif uang < 1000 and uang >500:\n",
        "        uang = uang - 500\n",
        "        pecahan500 += 1\n",
        "    else:\n",
        "        uang = uang - 100\n",
        "        pecahan100 += 1\n",
        "     \n",
        "print(f\"Total pecahan 100rb adalah {pecahan100rb}, 50rb adalah {pecahan50rb}, 10rb adalah {pecahan10rb}, 5rb adalah {pecahan5rb}, 1rb adalah {pecahan1rb}, 500 adalah {pecahan500}, 100 adalah {pecahan100}\")"
      ]
    },
    {
      "cell_type": "markdown",
      "id": "03e12c77",
      "metadata": {
        "id": "03e12c77"
      },
      "source": [
        "9. Buatlah program python yang berguna untuk mengkonversi dari celcius menjadi fahrenheit"
      ]
    },
    {
      "cell_type": "code",
      "execution_count": 2,
      "metadata": {},
      "outputs": [
        {
          "data": {
            "text/plain": [
              "113.0"
            ]
          },
          "execution_count": 2,
          "metadata": {},
          "output_type": "execute_result"
        }
      ],
      "source": [
        "def cel_fah(celcius):\n",
        "    fahrenheit = (celcius*(9/5))+32\n",
        "    return fahrenheit\n",
        "\n",
        "cel_fah(45)"
      ]
    },
    {
      "cell_type": "markdown",
      "id": "b665d3ad",
      "metadata": {
        "id": "b665d3ad"
      },
      "source": [
        "10. Supermarket X adalah satu-satunya supermarket di kota Solo terkenal karena kejujurannya. Berapapun total belanja pelanggan, selalu dibulatkan ke bawah ke kelipatan Rp 1000 rupiah. Sebagai contoh misalkan total belanja pelanggan adalah Rp 120.580, maka akan dibulatkan ke Rp 120.000 atau misalkan totalnya Rp 99.999 maja akan dibulatkan kebawah menjadi Rp 99.000. Karena kebaikan supermarket inilah,m semakin lama semakin banyak pelanggannya. Namun, karena kasirnya masih menggunakan sistem manual, maka semakin lama kasir mengalami kerepotan dalam menangani transaksi perharinya. Buatlah sebuah pemrograman Python untuk membantu kasir dalam menentukan total belanja sesuai ketentuan yang berlaku di supermarket tersebut. Input program adalah total belanja pelanggan, sedangkan outputnya adalah total belanja setelah pembulatan ke bawah ke kelipatan Rp 1000"
      ]
    },
    {
      "cell_type": "code",
      "execution_count": 6,
      "metadata": {},
      "outputs": [
        {
          "data": {
            "text/plain": [
              "897000"
            ]
          },
          "execution_count": 6,
          "metadata": {},
          "output_type": "execute_result"
        }
      ],
      "source": [
        "from math import floor\n",
        "total_belanja = floor(int(input(\"Masukkan total belanja! \"))/1000)*1000\n",
        "total_belanja"
      ]
    },
    {
      "cell_type": "markdown",
      "id": "54edd5b0",
      "metadata": {
        "id": "54edd5b0"
      },
      "source": [
        "11. Hitunglah Upah Kerja (Kotor) dari seluruh karyawan Perusahaan B jika diketahui upah per jam adalah Rp 30000\n",
        "\n",
        "  Tampilkan output sebagai berikut\n",
        "\n",
        "  Contoh:\n",
        "Upah Kerja (Kotor) Doni = Rp 380000\n",
        "Keterangan :\n",
        "  - Upah per jam = 30000\n",
        "  - Upah Kerja (Kotor) = Jam Kerja x Upah per Jam\n",
        "Upah Kerja (Kotor) Joko = Rp 1320000\n",
        "Upah Kerja (Kotor) Alex = Rp 1440000\n",
        "Upah Kerja (Kotor) Chandra = Rp 1500000\n",
        "Upah Kerja (Kotor) Hartono = Rp 1260000\n",
        "Upah Kerja (Kotor) Samsul = Rp 1350000"
      ]
    },
    {
      "cell_type": "markdown",
      "id": "7fd0c01a",
      "metadata": {
        "id": "7fd0c01a"
      },
      "source": [
        "12. Hitunglah Upah Lembur dari seluruh karyawan Perusahaan B\n",
        "\n",
        "  Tampilkan output sebagai berikut: contoh\n",
        "\n",
        "  Contoh:\n",
        "Upah Lembur Doni = Rp 23000\n",
        "Keterangan :\n",
        "  - Upah lembur per jam = 35000\n",
        "  - Upah Lembur = Jam Lembur x Upah lembur per jam\n",
        "Upah Lembur Joko = Rp 420000\n",
        "Upah Lembur Alex = Rp 385000\n",
        "Upah Lembur Chandra = Rp 350000\n",
        "Upah Lembur Hartono = Rp 525000\n",
        "Upah Lembur Samsul = Rp 420000"
      ]
    },
    {
      "cell_type": "markdown",
      "id": "ab25a2d5",
      "metadata": {
        "id": "ab25a2d5"
      },
      "source": [
        "13. Kita berbelanja bahan makanan di supermarket. Berikut merupakan harga bahan makanan yang dibeli:\n",
        "\n",
        "  ayam adalah 15000\n",
        "bumbu 10000\n",
        "beras 50000.\n",
        "Total belanja nya adalah 160000.\n",
        "Cobalah masukkan angka tersebut ke dalam variabel, kemudian print menggunakan f-string untuk semua variabel!"
      ]
    },
    {
      "cell_type": "markdown",
      "id": "a222e560",
      "metadata": {
        "id": "a222e560"
      },
      "source": [
        "Rima merupakan seorang anak yang sangat hemat. Namun, suatu ketika dirinya merasa boros dan akhirnya Rima pun me-list pengeluarannya minggu ini dan didapat hasil sebagai berikut:\n",
        "\n",
        "Baju: 200.000\n",
        "Tumblr: 75.000\n",
        "Tas: 150.000\n",
        "Berapakah total biaya yang telah dikeluarkan oleh Rima dalam minggu ini?"
      ]
    },
    {
      "cell_type": "markdown",
      "id": "bcba3cc3",
      "metadata": {
        "id": "bcba3cc3"
      },
      "source": [
        "14. James Hoffman pergi ke PaperCup Coffee milik Andi, setelah mencicipi kopi buatan toko tersebut James termotivasi untuk membuat kopi sendiri ketika di rumah nanti. James pergi ke Supermarket untuk membeli keperluan membuat kopi, berikut adalah barang yang dibeli dan harganya:\n",
        "\n",
        "Biji Kopi yang dibeli adalah \"Ethiopian Coffee Beans\" dengan harga Rp 115.000\n",
        "Alat yang dibutuhkan untuk menyeduh kopi sendiri James membeli alat \"V60\" dengan harga Rp 95.500\n",
        "Cobalah masukkan nilai - nilai tersebut ke dalam variable dan buatlah code yang sesuai dengan output!\n",
        "\n",
        "output : Biji Kopi yang dibeli oleh James Hoffman adalah Ethiopian Coffee Beans dengan harga 115000\n",
        "Alat untuk menyeduh kopi yang dibeli oleh James Hoffman adalah V60 dengan harga 95500"
      ]
    },
    {
      "cell_type": "markdown",
      "id": "a2bed253",
      "metadata": {
        "id": "a2bed253"
      },
      "source": [
        "15. Pak Hartono agak kesal karena harga BBM naik dari Rp 7650 per liter menjadi Rp 10000 per liter. Jika sebelumnya beliau membeli Rp 20000 sudah full tank, berapa liter yang harus dibayar Pak Hartono jika mengisi full tank dengan harga yang baru ?"
      ]
    },
    {
      "cell_type": "markdown",
      "id": "19bbebc3",
      "metadata": {
        "id": "19bbebc3"
      },
      "source": [
        "16. Putra bekerja di sebuah perusahaan swasta. Beliau mendapatkan gaji tahunan sebesar Rp 160 juta dan dibayarkan setiap dua minggu. Jika dalam satu tahun gaji tersebut dibayarkan sebanyak 26 kali, berapakah gaji yang di dapatkan Putra selama dua minggu ?"
      ]
    },
    {
      "cell_type": "markdown",
      "id": "14bfd216",
      "metadata": {
        "id": "14bfd216"
      },
      "source": [
        "17. Anda memiliki perusahaan percetakan. Pelanggan anda meminta anda untuk mencetak tulisan \"HAPPI BIRTHDAY\". Namun ternyata di dalam file tulisan yang dikirim, anda menyadari bahwa ada tulisan typo yaitu I di dalam kata HAPPI yang seharusnya huruf Y. Pelanggan meminta anda untuk mengganti dengan yang benar dan mengubah hurufnya menjadi besar di awal kata saja. Coba revisi tulisan HAPPI BIRTHDAY sesuai permintaan pelanggan anda!"
      ]
    },
    {
      "cell_type": "markdown",
      "id": "3122969e",
      "metadata": {
        "id": "3122969e"
      },
      "source": [
        "18. Terdapat kode pos NZ12348, dimana 2 karakter awal adalah kode negara. Coba ambil kode negara dari string tersebut!"
      ]
    },
    {
      "cell_type": "markdown",
      "id": "93205818",
      "metadata": {
        "id": "93205818"
      },
      "source": [
        "19. Pengguna aplikasi e-commerce mendapatkan voucher belanja jika memenuhi salah satu ketentuan yaitu belanja 7 hari berturut-turut atau belanja lebih dari 1 juta, Hilmi tidak belanja 7 hari berturut-turut namun ia telah melakukan transaksi 1 juta, apakah Hilmi mendapatkan voucher belanja? (True/False)"
      ]
    },
    {
      "cell_type": "markdown",
      "id": "f3f12339",
      "metadata": {
        "id": "f3f12339"
      },
      "source": [
        "20. Pak Joko membandingkan harga stock produk barang kecantikan pada kedua supplier yang berbeda.\n",
        "Supplier pertama menawarkan 10 kardus isi produk kecantikan Nivae dengan harga 1.500.000 rupiah\n",
        "Sedangkan supplier kedua menawarkan 12 kardus isi produk kecantikan Garneir dengan harga 1.700.000 rupiah.\n",
        "Dengan kedua harga tersebut Pak Joko memprioritaskan untuk menekan budgetnya dengan membeli stock produk yang paling murah yaitu dengan cara mempertimbangkan harga per kardusnya.\n",
        "Buatlah operasi matematika perbandingan stock produk barang kecantikan apakah harga produk Nivae lebih besar dari harga produk Garneir dalam Python!"
      ]
    },
    {
      "cell_type": "markdown",
      "id": "03a84343",
      "metadata": {
        "id": "03a84343"
      },
      "source": [
        "21. ----------------------------------------------------------------------\n",
        "Start Up ditempat Haris bekerja dengan timnya sedang melakukan pengujian testing aplikasinya pada fitur dalam mendapatkan voucher belanja untuk user  \n",
        "\n",
        "| Jenis Voucher        |Nama variabel    |Tipe Data|\n",
        "|----------------------|-----------------|---------|\n",
        "|Voucher Gratis Ongkir |get_free_shipping|Boolean  |\n",
        "|Voucher Cashback      |get_cashback     |Boolean  |\n",
        "|Voucher Potongan Harga|get_discount     |Boolean  |\n",
        "|Voucher Pengguna Baru |get_newuser      |Boolean  |\n",
        "\n",
        "Terdapat beberapa user jenis yang mendapatkan voucher:\n",
        "1. Pengguna baru mendapatkan voucher pengguna baru saja\n",
        "2. Pengguna lama yang mendapatkan voucher gratis ongkir saja\n",
        "3. pengguna lama yang mendapatkan voucher potongan harga saja\n",
        "4. pengguna lama yang membeli barang mahal mendapatkan voucher gratis ongkir,cashback\n",
        "5. pengguna lama yang membeli barang mahal mendapatkan voucher gratis ongkir, voucher cashback dan potongan harga\n",
        "\n",
        "semua pengguna harus menggunakan semua variabel yang berada pada tabel <br>\n",
        "\n",
        "21A. Buatlah variabel yang sesuai dengan pengguna baru mendapatkan voucher pengguna baru saja <br>\n",
        "21B. Buatlah variabel pengguna lama yang mendapatkan voucher gratis ongkir saja <br>\n",
        "21C. Buatlah variabel pengguna lama yang mendapatkan voucher potongan harga saja <br>\n",
        "21D. Buatlah variabel pengguna lama yang membeli barang mahal mendapatkan voucher gratis ongkir,cashback <br>\n",
        "21E. Buatlah variabel pengguna lama yang membeli barang mahal mendapatkan voucher gratis ongkir, voucher cashback dan potongan harga"
      ]
    },
    {
      "cell_type": "markdown",
      "id": "f77bac63",
      "metadata": {
        "id": "f77bac63"
      },
      "source": [
        "22. Anda makan di sebuah restoran. Anda ingin memesan menu sesuai dengan budget anda.\n",
        "\n",
        "Jika uang anda lebih dari sama dengan 100.000 maka anda memakan steak\n",
        "Jika uang anda lebih dari sama dengan 50.000 maka anda memakan spaghetti\n",
        "Jika uang anda kurang dari 50.000 maka anda memakan nasi goreng\n",
        "Budget uang anda sebesar 60.000 maka lengkapilah program branching dibawah ini\n",
        "\n",
        "```\n",
        "uang = ...\n",
        "... ... ... ...:\n",
        "    print(\"Makan Steak\")\n",
        "... ... ... ...:\n",
        "    ...\n",
        "else:\n",
        "    ...\n",
        "```"
      ]
    },
    {
      "cell_type": "markdown",
      "id": "d64e8d60",
      "metadata": {
        "id": "d64e8d60"
      },
      "source": [
        "23. Jika Universitas yang dipilih adalah ITB, maka akan masuk FMIPA\n",
        "Jika Universitas yang dipilih adalah UI, maka akan masuk Statistik\n",
        "Jika tidak memasuki Universitas selain kondisi di atas, maka Yuni akan mencari Universitas yang lain\n",
        "\n",
        "```\n",
        "universitas = \"UI\"\n",
        "... ...:\n",
        "    ...\n",
        "... ...:\n",
        "    print(\"Jurusan statistik\")\n",
        "else:\n",
        "    print(\"Cari Universitas yang lain, semangat!!!\")\n",
        "```"
      ]
    },
    {
      "cell_type": "markdown",
      "id": "ea5fca98",
      "metadata": {
        "id": "ea5fca98"
      },
      "source": [
        "24. Lengkapi program branching dibawah ini,\n",
        "\n",
        "Jika nilai lebih dari sama dengan 75 maka akan mendapatkan nilai A\n",
        "Jika nilai ada di 50-75 maka akan mendapatkan nilai B\n",
        "Jika nilai di bawah 50 maka akan mendapatkan nilai C.\n",
        "\n",
        "```\n",
        "nilai = 80\n",
        "... ... >= ...:\n",
        "    ...\n",
        "... ... ... 50:\n",
        "    print(\"nilai B\")\n",
        "...:\n",
        "    ...\n",
        "```"
      ]
    },
    {
      "cell_type": "markdown",
      "id": "3bf8fb4d",
      "metadata": {
        "id": "3bf8fb4d"
      },
      "source": [
        "25. Sebuah Toko Florist memberikan diskon 20% kepada pelanggan yang telah melakukan 3 transaksi sebelumnya\n",
        "Akan memberi diskon 30% untuk pelanggan yang telah melakukan 7 kali transaksi sebelumnya\n",
        "Gamal ingin membeli bouquet bunga dan sekarang merupakan transaksi yang ke 7 di Toko Florist tersebut\n",
        "Buat program Branching di bawah ini berdasarkan case diatas!"
      ]
    },
    {
      "cell_type": "markdown",
      "id": "8100bfc3",
      "metadata": {
        "id": "8100bfc3"
      },
      "source": [
        "26. Dokter merawat seorang pasien yang sedang sakit, dokter memiliki beberapa kondisi diagnosa yaitu\n",
        "\n",
        "Jika pasien flu tanpa gejala sakit tenggorokan bahwa pasien sakit flu biasa\n",
        "Jika pasien flu ditambah dengan sakit tenggorokan maka pasien sakit radang tenggorokan\n",
        "Jika pasien flu ditambah sakit tenggorokan ditambah mual maka pasien sakit tonsilitis\n",
        "Ternyata terdapat pasien yang mengidap radang tenggorokan. Ubahlah variabel kondisi_1 dan kondisi_2 agar mengeluarkan diagnosa \"pasien sakit radang tenggorokan\""
      ]
    },
    {
      "cell_type": "markdown",
      "id": "b026a137",
      "metadata": {
        "id": "b026a137"
      },
      "source": [
        "27. Pada Supermarket A customer akan mendapatkan promo menarik jika:\n",
        "\n",
        "Jika customer berbelanja di atas Rp 350.000 akan mendapatkan diskon 5%\n",
        "Jika customer berbelanja di atas Rp 350.000 dan barang yang terakhir dibeli adalah \"Sate Cap Windbreaker\" akan mendapatkan diskon 15%\n",
        "Jika customer berbelanja tidak di atas Rp 350.000 tidak mendapatkan diskon"
      ]
    }
  ],
  "metadata": {
    "colab": {
      "provenance": []
    },
    "kernelspec": {
      "display_name": "Python 3 (ipykernel)",
      "language": "python",
      "name": "python3"
    },
    "language_info": {
      "codemirror_mode": {
        "name": "ipython",
        "version": 3
      },
      "file_extension": ".py",
      "mimetype": "text/x-python",
      "name": "python",
      "nbconvert_exporter": "python",
      "pygments_lexer": "ipython3",
      "version": "3.11.1"
    }
  },
  "nbformat": 4,
  "nbformat_minor": 5
}
